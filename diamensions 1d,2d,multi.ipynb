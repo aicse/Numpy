{
 "cells": [
  {
   "cell_type": "code",
   "execution_count": 2,
   "id": "01ecfcc9",
   "metadata": {},
   "outputs": [],
   "source": [
    "import numpy as np"
   ]
  },
  {
   "cell_type": "code",
   "execution_count": 3,
   "id": "d63dbe71",
   "metadata": {},
   "outputs": [],
   "source": [
    "#we can use all of the data structures into array [#one diamension]\n",
    "array=np.array([1,1.5,True,'string'])"
   ]
  },
  {
   "cell_type": "code",
   "execution_count": 4,
   "id": "46370de3",
   "metadata": {},
   "outputs": [
    {
     "data": {
      "text/plain": [
       "array(['1', '1.5', 'True', 'string'], dtype='<U32')"
      ]
     },
     "execution_count": 4,
     "metadata": {},
     "output_type": "execute_result"
    }
   ],
   "source": [
    "array\n"
   ]
  },
  {
   "cell_type": "code",
   "execution_count": 5,
   "id": "d755e024",
   "metadata": {},
   "outputs": [],
   "source": [
    "#creating zeros function\n",
    "zeros=np.zeros(6)"
   ]
  },
  {
   "cell_type": "code",
   "execution_count": 6,
   "id": "60b7c265",
   "metadata": {},
   "outputs": [
    {
     "data": {
      "text/plain": [
       "array([0., 0., 0., 0., 0., 0.])"
      ]
     },
     "execution_count": 6,
     "metadata": {},
     "output_type": "execute_result"
    }
   ],
   "source": [
    "zeros"
   ]
  },
  {
   "cell_type": "code",
   "execution_count": 7,
   "id": "a2bcc850",
   "metadata": {},
   "outputs": [],
   "source": [
    "#creating ones function\n",
    "ones=np.ones(6)"
   ]
  },
  {
   "cell_type": "code",
   "execution_count": 8,
   "id": "e2e555db",
   "metadata": {},
   "outputs": [
    {
     "data": {
      "text/plain": [
       "array([1., 1., 1., 1., 1., 1.])"
      ]
     },
     "execution_count": 8,
     "metadata": {},
     "output_type": "execute_result"
    }
   ],
   "source": [
    "ones"
   ]
  },
  {
   "cell_type": "code",
   "execution_count": 9,
   "id": "376ce7bc",
   "metadata": {},
   "outputs": [],
   "source": [
    "#creating range function\n",
    "range = np.arange(12)"
   ]
  },
  {
   "cell_type": "code",
   "execution_count": 11,
   "id": "0a37a8e6",
   "metadata": {},
   "outputs": [
    {
     "data": {
      "text/plain": [
       "array([ 0,  1,  2,  3,  4,  5,  6,  7,  8,  9, 10, 11])"
      ]
     },
     "execution_count": 11,
     "metadata": {},
     "output_type": "execute_result"
    }
   ],
   "source": [
    "range"
   ]
  },
  {
   "cell_type": "code",
   "execution_count": 22,
   "id": "fb91eb87",
   "metadata": {},
   "outputs": [],
   "source": [
    "#creating linspace function to evenly splited\n",
    "linspace=np.linspace(1,35,3)"
   ]
  },
  {
   "cell_type": "code",
   "execution_count": 23,
   "id": "95864a40",
   "metadata": {},
   "outputs": [
    {
     "data": {
      "text/plain": [
       "array([ 1., 18., 35.])"
      ]
     },
     "execution_count": 23,
     "metadata": {},
     "output_type": "execute_result"
    }
   ],
   "source": [
    "linspace"
   ]
  },
  {
   "cell_type": "code",
   "execution_count": 24,
   "id": "414eda9d",
   "metadata": {},
   "outputs": [
    {
     "data": {
      "text/plain": [
       "12"
      ]
     },
     "execution_count": 24,
     "metadata": {},
     "output_type": "execute_result"
    }
   ],
   "source": [
    "len(range)"
   ]
  },
  {
   "cell_type": "code",
   "execution_count": 43,
   "id": "fb557445",
   "metadata": {},
   "outputs": [],
   "source": [
    "#creating 2d array[2 diamension]"
   ]
  },
  {
   "cell_type": "code",
   "execution_count": 36,
   "id": "1dbdc413",
   "metadata": {},
   "outputs": [],
   "source": [
    "inn=np.array([[1,2,3],[6,8,0],[1,2,3]])"
   ]
  },
  {
   "cell_type": "code",
   "execution_count": 40,
   "id": "23301fa7",
   "metadata": {},
   "outputs": [
    {
     "data": {
      "text/plain": [
       "numpy.ndarray"
      ]
     },
     "execution_count": 40,
     "metadata": {},
     "output_type": "execute_result"
    }
   ],
   "source": [
    "#type cheacking\n",
    "type(inn)"
   ]
  },
  {
   "cell_type": "code",
   "execution_count": 39,
   "id": "b79e5300",
   "metadata": {},
   "outputs": [
    {
     "data": {
      "text/plain": [
       "(3, 3)"
      ]
     },
     "execution_count": 39,
     "metadata": {},
     "output_type": "execute_result"
    }
   ],
   "source": [
    "#find a shape of array\n",
    "inn.shape"
   ]
  },
  {
   "cell_type": "code",
   "execution_count": 37,
   "id": "00ab6579",
   "metadata": {},
   "outputs": [
    {
     "data": {
      "text/plain": [
       "9"
      ]
     },
     "execution_count": 37,
     "metadata": {},
     "output_type": "execute_result"
    }
   ],
   "source": [
    "#find the size of array\n",
    "inn.size"
   ]
  },
  {
   "cell_type": "code",
   "execution_count": 38,
   "id": "e1f13079",
   "metadata": {},
   "outputs": [
    {
     "data": {
      "text/plain": [
       "3"
      ]
     },
     "execution_count": 38,
     "metadata": {},
     "output_type": "execute_result"
    }
   ],
   "source": [
    "#find the length\n",
    "len(inn)"
   ]
  },
  {
   "cell_type": "code",
   "execution_count": 41,
   "id": "928e5616",
   "metadata": {},
   "outputs": [
    {
     "data": {
      "text/plain": [
       "2"
      ]
     },
     "execution_count": 41,
     "metadata": {},
     "output_type": "execute_result"
    }
   ],
   "source": [
    "#dimension\n",
    "inn.ndim"
   ]
  },
  {
   "cell_type": "code",
   "execution_count": 42,
   "id": "9429c0e8",
   "metadata": {},
   "outputs": [],
   "source": [
    "#conveting one diamension to two diamension[1d to 2d]"
   ]
  },
  {
   "cell_type": "code",
   "execution_count": 44,
   "id": "739e4bdb",
   "metadata": {},
   "outputs": [],
   "source": [
    "#reshape and resize function"
   ]
  },
  {
   "cell_type": "code",
   "execution_count": 46,
   "id": "2a783af5",
   "metadata": {},
   "outputs": [],
   "source": [
    "inr=np.arange(12)"
   ]
  },
  {
   "cell_type": "code",
   "execution_count": 47,
   "id": "3d979edb",
   "metadata": {},
   "outputs": [
    {
     "data": {
      "text/plain": [
       "array([ 0,  1,  2,  3,  4,  5,  6,  7,  8,  9, 10, 11])"
      ]
     },
     "execution_count": 47,
     "metadata": {},
     "output_type": "execute_result"
    }
   ],
   "source": [
    "#one diamension\n",
    "inr"
   ]
  },
  {
   "cell_type": "code",
   "execution_count": 49,
   "id": "e0b3ad61",
   "metadata": {},
   "outputs": [
    {
     "data": {
      "text/plain": [
       "(12,)"
      ]
     },
     "execution_count": 49,
     "metadata": {},
     "output_type": "execute_result"
    }
   ],
   "source": [
    "inr.shape\n"
   ]
  },
  {
   "cell_type": "code",
   "execution_count": 51,
   "id": "3ad01282",
   "metadata": {},
   "outputs": [
    {
     "data": {
      "text/plain": [
       "array([[ 0,  1,  2,  3],\n",
       "       [ 4,  5,  6,  7],\n",
       "       [ 8,  9, 10, 11]])"
      ]
     },
     "execution_count": 51,
     "metadata": {},
     "output_type": "execute_result"
    }
   ],
   "source": [
    "inr.reshape(3,4)"
   ]
  },
  {
   "cell_type": "code",
   "execution_count": 52,
   "id": "bf69ae2a",
   "metadata": {},
   "outputs": [
    {
     "data": {
      "text/plain": [
       "array([[ 0,  1,  2],\n",
       "       [ 3,  4,  5],\n",
       "       [ 6,  7,  8],\n",
       "       [ 9, 10, 11]])"
      ]
     },
     "execution_count": 52,
     "metadata": {},
     "output_type": "execute_result"
    }
   ],
   "source": [
    "inr.reshape(4,3)"
   ]
  },
  {
   "cell_type": "code",
   "execution_count": 57,
   "id": "cf47bb8c",
   "metadata": {},
   "outputs": [
    {
     "data": {
      "text/plain": [
       "array([[ 0,  1],\n",
       "       [ 2,  3],\n",
       "       [ 4,  5],\n",
       "       [ 6,  7],\n",
       "       [ 8,  9],\n",
       "       [10, 11]])"
      ]
     },
     "execution_count": 57,
     "metadata": {},
     "output_type": "execute_result"
    }
   ],
   "source": [
    "inr.reshape(6,2)"
   ]
  },
  {
   "cell_type": "code",
   "execution_count": 54,
   "id": "54dcd176",
   "metadata": {},
   "outputs": [],
   "source": [
    "#resize of array to 2d"
   ]
  },
  {
   "cell_type": "code",
   "execution_count": 58,
   "id": "ab5b0b84",
   "metadata": {},
   "outputs": [],
   "source": [
    "inr.resize(4,3)"
   ]
  },
  {
   "cell_type": "code",
   "execution_count": 59,
   "id": "2f40e3f2",
   "metadata": {},
   "outputs": [
    {
     "data": {
      "text/plain": [
       "array([[ 0,  1,  2],\n",
       "       [ 3,  4,  5],\n",
       "       [ 6,  7,  8],\n",
       "       [ 9, 10, 11]])"
      ]
     },
     "execution_count": 59,
     "metadata": {},
     "output_type": "execute_result"
    }
   ],
   "source": [
    "inr"
   ]
  },
  {
   "cell_type": "code",
   "execution_count": 63,
   "id": "9ac79736",
   "metadata": {},
   "outputs": [],
   "source": [
    "imr=np.hsplit(inr,3)"
   ]
  },
  {
   "cell_type": "code",
   "execution_count": 64,
   "id": "ccf31ee3",
   "metadata": {},
   "outputs": [
    {
     "data": {
      "text/plain": [
       "[array([[0],\n",
       "        [3],\n",
       "        [6],\n",
       "        [9]]),\n",
       " array([[ 1],\n",
       "        [ 4],\n",
       "        [ 7],\n",
       "        [10]]),\n",
       " array([[ 2],\n",
       "        [ 5],\n",
       "        [ 8],\n",
       "        [11]])]"
      ]
     },
     "execution_count": 64,
     "metadata": {},
     "output_type": "execute_result"
    }
   ],
   "source": [
    "imr"
   ]
  },
  {
   "cell_type": "code",
   "execution_count": 65,
   "id": "c7c47a80",
   "metadata": {},
   "outputs": [],
   "source": [
    "vijay,ajith,kumar=np.hsplit(inr,3)\n"
   ]
  },
  {
   "cell_type": "code",
   "execution_count": 66,
   "id": "249cdc5d",
   "metadata": {},
   "outputs": [
    {
     "data": {
      "text/plain": [
       "array([[0],\n",
       "       [3],\n",
       "       [6],\n",
       "       [9]])"
      ]
     },
     "execution_count": 66,
     "metadata": {},
     "output_type": "execute_result"
    }
   ],
   "source": [
    "vijay"
   ]
  },
  {
   "cell_type": "code",
   "execution_count": 67,
   "id": "59b541d3",
   "metadata": {},
   "outputs": [
    {
     "data": {
      "text/plain": [
       "array([[ 1],\n",
       "       [ 4],\n",
       "       [ 7],\n",
       "       [10]])"
      ]
     },
     "execution_count": 67,
     "metadata": {},
     "output_type": "execute_result"
    }
   ],
   "source": [
    "ajith"
   ]
  },
  {
   "cell_type": "code",
   "execution_count": 86,
   "id": "063d0639",
   "metadata": {},
   "outputs": [],
   "source": [
    "#creating 3d array "
   ]
  },
  {
   "cell_type": "code",
   "execution_count": 82,
   "id": "ed55449c",
   "metadata": {},
   "outputs": [],
   "source": [
    "war = np.array([[   [[1,2,3],[4,7,9],[7,6,3]],[[1,2,3],[4,7,9],[7,6,3]]    ]])\n"
   ]
  },
  {
   "cell_type": "code",
   "execution_count": 87,
   "id": "6fde5f23",
   "metadata": {},
   "outputs": [
    {
     "data": {
      "text/plain": [
       "3"
      ]
     },
     "execution_count": 87,
     "metadata": {},
     "output_type": "execute_result"
    }
   ],
   "source": [
    "war.ndim"
   ]
  },
  {
   "cell_type": "code",
   "execution_count": 89,
   "id": "9e8f0216",
   "metadata": {},
   "outputs": [
    {
     "data": {
      "text/plain": [
       "(1, 6, 3)"
      ]
     },
     "execution_count": 89,
     "metadata": {},
     "output_type": "execute_result"
    }
   ],
   "source": [
    "war.shape"
   ]
  },
  {
   "cell_type": "code",
   "execution_count": 90,
   "id": "6c932365",
   "metadata": {},
   "outputs": [
    {
     "data": {
      "text/plain": [
       "array([[[1, 2, 3],\n",
       "        [4, 7, 9],\n",
       "        [7, 6, 3],\n",
       "        [1, 2, 3],\n",
       "        [4, 7, 9],\n",
       "        [7, 6, 3]]])"
      ]
     },
     "execution_count": 90,
     "metadata": {},
     "output_type": "execute_result"
    }
   ],
   "source": [
    "war\n"
   ]
  },
  {
   "cell_type": "code",
   "execution_count": 100,
   "id": "1b7a246d",
   "metadata": {},
   "outputs": [],
   "source": [
    "war1=np.array([[[1,2,3],[2,4,5]],[[4,7,9],[2,7,9]]])"
   ]
  },
  {
   "cell_type": "code",
   "execution_count": 101,
   "id": "ab99f880",
   "metadata": {},
   "outputs": [
    {
     "data": {
      "text/plain": [
       "3"
      ]
     },
     "execution_count": 101,
     "metadata": {},
     "output_type": "execute_result"
    }
   ],
   "source": [
    "war1.ndim"
   ]
  },
  {
   "cell_type": "code",
   "execution_count": 104,
   "id": "d4671738",
   "metadata": {},
   "outputs": [
    {
     "data": {
      "text/plain": [
       "(2, 2, 3)"
      ]
     },
     "execution_count": 104,
     "metadata": {},
     "output_type": "execute_result"
    }
   ],
   "source": [
    "war1.shape"
   ]
  },
  {
   "cell_type": "code",
   "execution_count": 103,
   "id": "9f9ca320",
   "metadata": {},
   "outputs": [
    {
     "data": {
      "text/plain": [
       "array([[[1, 2, 3],\n",
       "        [2, 4, 5]],\n",
       "\n",
       "       [[4, 7, 9],\n",
       "        [2, 7, 9]]])"
      ]
     },
     "execution_count": 103,
     "metadata": {},
     "output_type": "execute_result"
    }
   ],
   "source": [
    "war1"
   ]
  },
  {
   "cell_type": "code",
   "execution_count": 108,
   "id": "959f22ab",
   "metadata": {},
   "outputs": [
    {
     "data": {
      "text/plain": [
       "3"
      ]
     },
     "execution_count": 108,
     "metadata": {},
     "output_type": "execute_result"
    }
   ],
   "source": [
    "#accessing element\n",
    "war1[0][0][2]"
   ]
  },
  {
   "cell_type": "code",
   "execution_count": 110,
   "id": "7b7c4b45",
   "metadata": {},
   "outputs": [
    {
     "data": {
      "text/plain": [
       "5"
      ]
     },
     "execution_count": 110,
     "metadata": {},
     "output_type": "execute_result"
    }
   ],
   "source": [
    "war1[0,1,2]"
   ]
  },
  {
   "cell_type": "code",
   "execution_count": null,
   "id": "9689fba9",
   "metadata": {},
   "outputs": [],
   "source": []
  }
 ],
 "metadata": {
  "kernelspec": {
   "display_name": "Python 3 (ipykernel)",
   "language": "python",
   "name": "python3"
  },
  "language_info": {
   "codemirror_mode": {
    "name": "ipython",
    "version": 3
   },
   "file_extension": ".py",
   "mimetype": "text/x-python",
   "name": "python",
   "nbconvert_exporter": "python",
   "pygments_lexer": "ipython3",
   "version": "3.11.0"
  }
 },
 "nbformat": 4,
 "nbformat_minor": 5
}
