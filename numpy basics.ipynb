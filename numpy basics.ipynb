{
 "cells": [
  {
   "cell_type": "code",
   "execution_count": 45,
   "id": "469f703a",
   "metadata": {},
   "outputs": [
    {
     "data": {
      "text/plain": [
       "array([2, 3])"
      ]
     },
     "execution_count": 45,
     "metadata": {},
     "output_type": "execute_result"
    }
   ],
   "source": [
    "\n",
    "#first we want to import numpy and giving alise name as np\n",
    "import numpy as np\n",
    "\n",
    "#create a new ndarray (one dimensional) using arange fucntion\n",
    "array=np.arange(12)\n",
    "oneD_array=np.array([array])\n",
    "#print oneD_array\n",
    "print(array)\n",
    "\n",
    "#creating two Diamensional array\n",
    "twoD_array=np.reshape(oneD_array,(6,2))\n",
    "print(twoD_array)\n",
    "\n",
    "#craete a three  Diamensional array using range function\n",
    "threeD=np.arange(27)\n",
    "\n",
    "threeD_array=np.reshape(threeD,(3,3,3))\n",
    "\n",
    "print(\"#Three Diamnesion\" )\n",
    "print(threeD_array)\n",
    "\n",
    "#finding the shape of ndarray\n",
    "np.shape(threeD_array)\n",
    "\n",
    "#finding the diamension of ndarray\n",
    "np.ndim(threeD_array)\n",
    "\n",
    "#idexing and slicing\n",
    "\n",
    "data = np.array([1, 2, 3])\n",
    "\n",
    "data[1]\n",
    "\n",
    "\n",
    "data[0:2]\n",
    "\n",
    "\n",
    "data[1:]\n",
    "\n",
    "\n",
    "data[-2:]\n",
    "\n",
    "\n"
   ]
  },
  {
   "cell_type": "code",
   "execution_count": 52,
   "id": "28724a8d",
   "metadata": {},
   "outputs": [
    {
     "name": "stdout",
     "output_type": "stream",
     "text": [
      "[1 2 3 4]\n",
      "[ 5  6  7  8  9 10 11 12]\n"
     ]
    }
   ],
   "source": [
    "a = np.array([[1 , 2, 3, 4], [5, 6, 7, 8], [9, 10, 11, 12]])\n",
    "\n",
    "print(a[a<5])\n",
    "print(a[a>=5])"
   ]
  },
  {
   "cell_type": "code",
   "execution_count": null,
   "id": "f74ada76",
   "metadata": {},
   "outputs": [],
   "source": []
  }
 ],
 "metadata": {
  "kernelspec": {
   "display_name": "Python 3 (ipykernel)",
   "language": "python",
   "name": "python3"
  },
  "language_info": {
   "codemirror_mode": {
    "name": "ipython",
    "version": 3
   },
   "file_extension": ".py",
   "mimetype": "text/x-python",
   "name": "python",
   "nbconvert_exporter": "python",
   "pygments_lexer": "ipython3",
   "version": "3.11.0"
  }
 },
 "nbformat": 4,
 "nbformat_minor": 5
}
