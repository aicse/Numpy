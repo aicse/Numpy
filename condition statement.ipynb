{
 "cells": [
  {
   "cell_type": "code",
   "execution_count": 1,
   "id": "a010d1e2",
   "metadata": {},
   "outputs": [],
   "source": [
    "import numpy as np"
   ]
  },
  {
   "cell_type": "code",
   "execution_count": 9,
   "id": "9c7a02d3",
   "metadata": {},
   "outputs": [],
   "source": [
    "#creating array\n",
    "x=np.array([i for i in range(10)])"
   ]
  },
  {
   "cell_type": "code",
   "execution_count": 10,
   "id": "b02a6909",
   "metadata": {},
   "outputs": [
    {
     "data": {
      "text/plain": [
       "array([0, 1, 2, 3, 4, 5, 6, 7, 8, 9])"
      ]
     },
     "execution_count": 10,
     "metadata": {},
     "output_type": "execute_result"
    }
   ],
   "source": [
    "x"
   ]
  },
  {
   "cell_type": "code",
   "execution_count": 11,
   "id": "ba95a18a",
   "metadata": {},
   "outputs": [
    {
     "data": {
      "text/plain": [
       "array(['Even', 'Odd', 'Even', 'Odd', 'Even', 'Odd', 'Even', 'Odd', 'Even',\n",
       "       'Odd'], dtype='<U4')"
      ]
     },
     "execution_count": 11,
     "metadata": {},
     "output_type": "execute_result"
    }
   ],
   "source": [
    "np.where(x%2==0 ,'Even','Odd')"
   ]
  },
  {
   "cell_type": "code",
   "execution_count": 15,
   "id": "a7f5d1dd",
   "metadata": {},
   "outputs": [],
   "source": [
    "#condition \n",
    "conlist=[x<5,x>=5]\n",
    "choicelist =[x**2,x**3]"
   ]
  },
  {
   "cell_type": "code",
   "execution_count": 17,
   "id": "87d33c72",
   "metadata": {},
   "outputs": [
    {
     "data": {
      "text/plain": [
       "array([  0,   1,   4,   9,  16, 125, 216, 343, 512, 729])"
      ]
     },
     "execution_count": 17,
     "metadata": {},
     "output_type": "execute_result"
    }
   ],
   "source": [
    "#apply for thr condition\n",
    "\n",
    "np.select(conlist,choicelist,default=x)"
   ]
  },
  {
   "cell_type": "code",
   "execution_count": null,
   "id": "9309d39d",
   "metadata": {},
   "outputs": [],
   "source": []
  }
 ],
 "metadata": {
  "kernelspec": {
   "display_name": "Python 3 (ipykernel)",
   "language": "python",
   "name": "python3"
  },
  "language_info": {
   "codemirror_mode": {
    "name": "ipython",
    "version": 3
   },
   "file_extension": ".py",
   "mimetype": "text/x-python",
   "name": "python",
   "nbconvert_exporter": "python",
   "pygments_lexer": "ipython3",
   "version": "3.11.0"
  }
 },
 "nbformat": 4,
 "nbformat_minor": 5
}
